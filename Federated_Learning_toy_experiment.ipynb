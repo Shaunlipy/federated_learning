{
  "nbformat": 4,
  "nbformat_minor": 0,
  "metadata": {
    "colab": {
      "name": "Federated_Learning_Horizontal_parameters.ipynb",
      "provenance": [],
      "collapsed_sections": []
    },
    "kernelspec": {
      "name": "python3",
      "display_name": "Python 3"
    },
    "accelerator": "GPU",
    "widgets": {
      "application/vnd.jupyter.widget-state+json": {
        "075afbd8f7fb4b63bfa1af1651644a85": {
          "model_module": "@jupyter-widgets/controls",
          "model_name": "HBoxModel",
          "state": {
            "_view_name": "HBoxView",
            "_dom_classes": [],
            "_model_name": "HBoxModel",
            "_view_module": "@jupyter-widgets/controls",
            "_model_module_version": "1.5.0",
            "_view_count": null,
            "_view_module_version": "1.5.0",
            "box_style": "",
            "layout": "IPY_MODEL_411d578472de425d8408280290f8ecad",
            "_model_module": "@jupyter-widgets/controls",
            "children": [
              "IPY_MODEL_616ca6a6e70d4f639aa2fef1140baf2c",
              "IPY_MODEL_69a7865ca8e54a5e9355833d15df742f"
            ]
          }
        },
        "411d578472de425d8408280290f8ecad": {
          "model_module": "@jupyter-widgets/base",
          "model_name": "LayoutModel",
          "state": {
            "_view_name": "LayoutView",
            "grid_template_rows": null,
            "right": null,
            "justify_content": null,
            "_view_module": "@jupyter-widgets/base",
            "overflow": null,
            "_model_module_version": "1.2.0",
            "_view_count": null,
            "flex_flow": null,
            "width": null,
            "min_width": null,
            "border": null,
            "align_items": null,
            "bottom": null,
            "_model_module": "@jupyter-widgets/base",
            "top": null,
            "grid_column": null,
            "overflow_y": null,
            "overflow_x": null,
            "grid_auto_flow": null,
            "grid_area": null,
            "grid_template_columns": null,
            "flex": null,
            "_model_name": "LayoutModel",
            "justify_items": null,
            "grid_row": null,
            "max_height": null,
            "align_content": null,
            "visibility": null,
            "align_self": null,
            "height": null,
            "min_height": null,
            "padding": null,
            "grid_auto_rows": null,
            "grid_gap": null,
            "max_width": null,
            "order": null,
            "_view_module_version": "1.2.0",
            "grid_template_areas": null,
            "object_position": null,
            "object_fit": null,
            "grid_auto_columns": null,
            "margin": null,
            "display": null,
            "left": null
          }
        },
        "616ca6a6e70d4f639aa2fef1140baf2c": {
          "model_module": "@jupyter-widgets/controls",
          "model_name": "FloatProgressModel",
          "state": {
            "_view_name": "ProgressView",
            "style": "IPY_MODEL_ad87f2551bfd4a1da21d7be197970cb4",
            "_dom_classes": [],
            "description": "",
            "_model_name": "FloatProgressModel",
            "bar_style": "info",
            "max": 1,
            "_view_module": "@jupyter-widgets/controls",
            "_model_module_version": "1.5.0",
            "value": 1,
            "_view_count": null,
            "_view_module_version": "1.5.0",
            "orientation": "horizontal",
            "min": 0,
            "description_tooltip": null,
            "_model_module": "@jupyter-widgets/controls",
            "layout": "IPY_MODEL_75daa131ad804f1eb582e6a2a7728ff3"
          }
        },
        "69a7865ca8e54a5e9355833d15df742f": {
          "model_module": "@jupyter-widgets/controls",
          "model_name": "HTMLModel",
          "state": {
            "_view_name": "HTMLView",
            "style": "IPY_MODEL_efa857964dad4802b580d1347492e085",
            "_dom_classes": [],
            "description": "",
            "_model_name": "HTMLModel",
            "placeholder": "​",
            "_view_module": "@jupyter-widgets/controls",
            "_model_module_version": "1.5.0",
            "value": " 170500096/? [00:20&lt;00:00, 103187479.58it/s]",
            "_view_count": null,
            "_view_module_version": "1.5.0",
            "description_tooltip": null,
            "_model_module": "@jupyter-widgets/controls",
            "layout": "IPY_MODEL_19ec89765b914643a4294cdeaa8affb5"
          }
        },
        "ad87f2551bfd4a1da21d7be197970cb4": {
          "model_module": "@jupyter-widgets/controls",
          "model_name": "ProgressStyleModel",
          "state": {
            "_view_name": "StyleView",
            "_model_name": "ProgressStyleModel",
            "description_width": "initial",
            "_view_module": "@jupyter-widgets/base",
            "_model_module_version": "1.5.0",
            "_view_count": null,
            "_view_module_version": "1.2.0",
            "bar_color": null,
            "_model_module": "@jupyter-widgets/controls"
          }
        },
        "75daa131ad804f1eb582e6a2a7728ff3": {
          "model_module": "@jupyter-widgets/base",
          "model_name": "LayoutModel",
          "state": {
            "_view_name": "LayoutView",
            "grid_template_rows": null,
            "right": null,
            "justify_content": null,
            "_view_module": "@jupyter-widgets/base",
            "overflow": null,
            "_model_module_version": "1.2.0",
            "_view_count": null,
            "flex_flow": null,
            "width": null,
            "min_width": null,
            "border": null,
            "align_items": null,
            "bottom": null,
            "_model_module": "@jupyter-widgets/base",
            "top": null,
            "grid_column": null,
            "overflow_y": null,
            "overflow_x": null,
            "grid_auto_flow": null,
            "grid_area": null,
            "grid_template_columns": null,
            "flex": null,
            "_model_name": "LayoutModel",
            "justify_items": null,
            "grid_row": null,
            "max_height": null,
            "align_content": null,
            "visibility": null,
            "align_self": null,
            "height": null,
            "min_height": null,
            "padding": null,
            "grid_auto_rows": null,
            "grid_gap": null,
            "max_width": null,
            "order": null,
            "_view_module_version": "1.2.0",
            "grid_template_areas": null,
            "object_position": null,
            "object_fit": null,
            "grid_auto_columns": null,
            "margin": null,
            "display": null,
            "left": null
          }
        },
        "efa857964dad4802b580d1347492e085": {
          "model_module": "@jupyter-widgets/controls",
          "model_name": "DescriptionStyleModel",
          "state": {
            "_view_name": "StyleView",
            "_model_name": "DescriptionStyleModel",
            "description_width": "",
            "_view_module": "@jupyter-widgets/base",
            "_model_module_version": "1.5.0",
            "_view_count": null,
            "_view_module_version": "1.2.0",
            "_model_module": "@jupyter-widgets/controls"
          }
        },
        "19ec89765b914643a4294cdeaa8affb5": {
          "model_module": "@jupyter-widgets/base",
          "model_name": "LayoutModel",
          "state": {
            "_view_name": "LayoutView",
            "grid_template_rows": null,
            "right": null,
            "justify_content": null,
            "_view_module": "@jupyter-widgets/base",
            "overflow": null,
            "_model_module_version": "1.2.0",
            "_view_count": null,
            "flex_flow": null,
            "width": null,
            "min_width": null,
            "border": null,
            "align_items": null,
            "bottom": null,
            "_model_module": "@jupyter-widgets/base",
            "top": null,
            "grid_column": null,
            "overflow_y": null,
            "overflow_x": null,
            "grid_auto_flow": null,
            "grid_area": null,
            "grid_template_columns": null,
            "flex": null,
            "_model_name": "LayoutModel",
            "justify_items": null,
            "grid_row": null,
            "max_height": null,
            "align_content": null,
            "visibility": null,
            "align_self": null,
            "height": null,
            "min_height": null,
            "padding": null,
            "grid_auto_rows": null,
            "grid_gap": null,
            "max_width": null,
            "order": null,
            "_view_module_version": "1.2.0",
            "grid_template_areas": null,
            "object_position": null,
            "object_fit": null,
            "grid_auto_columns": null,
            "margin": null,
            "display": null,
            "left": null
          }
        }
      }
    }
  },
  "cells": [
    {
      "cell_type": "code",
      "metadata": {
        "id": "XV4N3niWaM1o",
        "colab_type": "code",
        "colab": {}
      },
      "source": [
        "import os\n",
        "import random\n",
        "from tqdm import tqdm\n",
        "import numpy as np\n",
        "import torch, torchvision\n",
        "import torch.nn as nn\n",
        "import torch.nn.functional as F\n",
        "import torch.optim as optim\n",
        "from torchvision import datasets, transforms\n",
        "from torch.utils.data.dataset import Dataset   \n",
        "\n",
        "torch.backends.cudnn.benchmark=True"
      ],
      "execution_count": null,
      "outputs": []
    },
    {
      "cell_type": "code",
      "metadata": {
        "id": "pjLk3UqTabZV",
        "colab_type": "code",
        "colab": {}
      },
      "source": [
        "##### Hyperparameters for federated learning #########\n",
        "\n",
        "num_clients = 20\n",
        "\n",
        "num_selected = 6\n",
        "\n",
        "num_rounds = 150\n",
        "\n",
        "epochs = 5\n",
        "\n",
        "batch_size = 32\n"
      ],
      "execution_count": null,
      "outputs": []
    },
    {
      "cell_type": "code",
      "metadata": {
        "id": "dedat0tfaigr",
        "colab_type": "code",
        "colab": {}
      },
      "source": [
        "# Image augmentation \n",
        "\n",
        "transform_train = transforms.Compose([\n",
        "    transforms.RandomCrop(32, padding=4),\n",
        "    transforms.RandomHorizontalFlip(),\n",
        "    transforms.ToTensor(),\n",
        "    transforms.Normalize((0.4914, 0.4822, 0.4465), (0.2023, 0.1994, 0.2010)),\n",
        "])\n",
        "\n",
        "# Normalizing the test images\n",
        "\n",
        "transform_test = transforms.Compose([\n",
        "    transforms.ToTensor(),\n",
        "    transforms.Normalize((0.4914, 0.4822, 0.4465), (0.2023, 0.1994, 0.2010)),\n",
        "])"
      ],
      "execution_count": null,
      "outputs": []
    },
    {
      "cell_type": "code",
      "metadata": {
        "id": "QanTaDGma0gq",
        "colab_type": "code",
        "colab": {
          "base_uri": "https://localhost:8080/",
          "height": 83,
          "referenced_widgets": [
            "075afbd8f7fb4b63bfa1af1651644a85",
            "411d578472de425d8408280290f8ecad",
            "616ca6a6e70d4f639aa2fef1140baf2c",
            "69a7865ca8e54a5e9355833d15df742f",
            "ad87f2551bfd4a1da21d7be197970cb4",
            "75daa131ad804f1eb582e6a2a7728ff3",
            "efa857964dad4802b580d1347492e085",
            "19ec89765b914643a4294cdeaa8affb5"
          ]
        },
        "outputId": "0a018ad6-f8c0-4010-f496-5e0762efb10d"
      },
      "source": [
        "##### Creating desired data distribution among clients  #####\n",
        "\n",
        "# Loading CIFAR10 using torchvision.datasets\n",
        "traindata = datasets.CIFAR10('./data', train=True, download=True, transform= transform_train)\n",
        "\n",
        "# Dividing the training data into num_clients, with each client having equal number of images\n",
        "traindata_split = torch.utils.data.random_split(traindata, [int(traindata.data.shape[0] / num_clients) for _ in range(num_clients)])\n",
        "\n",
        "# Creating a pytorch loader for a Deep Learning model\n",
        "train_loader = [torch.utils.data.DataLoader(x, batch_size=batch_size, shuffle=True) for x in traindata_split]\n",
        "\n",
        "# Loading the test iamges and thus converting them into a test_loader\n",
        "test_loader = torch.utils.data.DataLoader(\n",
        "        datasets.CIFAR10('./data', train=False, transform=transforms.Compose([transforms.ToTensor(),transforms.Normalize((0.4914, 0.4822, 0.4465), (0.2023, 0.1994, 0.2010))])\n",
        "        ), batch_size=batch_size, shuffle=True)"
      ],
      "execution_count": null,
      "outputs": [
        {
          "output_type": "stream",
          "text": [
            "Downloading https://www.cs.toronto.edu/~kriz/cifar-10-python.tar.gz to ./data/cifar-10-python.tar.gz\n"
          ],
          "name": "stdout"
        },
        {
          "output_type": "display_data",
          "data": {
            "application/vnd.jupyter.widget-view+json": {
              "model_id": "075afbd8f7fb4b63bfa1af1651644a85",
              "version_minor": 0,
              "version_major": 2
            },
            "text/plain": [
              "HBox(children=(FloatProgress(value=1.0, bar_style='info', max=1.0), HTML(value='')))"
            ]
          },
          "metadata": {
            "tags": []
          }
        },
        {
          "output_type": "stream",
          "text": [
            "Extracting ./data/cifar-10-python.tar.gz to ./data\n"
          ],
          "name": "stdout"
        }
      ]
    },
    {
      "cell_type": "code",
      "metadata": {
        "id": "JmxgYh1ubGay",
        "colab_type": "code",
        "colab": {}
      },
      "source": [
        "# Defining VGG16\n",
        "import torchvision.models as models\n",
        "vgg19 = models.vgg19_bn(pretrained=False)"
      ],
      "execution_count": null,
      "outputs": []
    },
    {
      "cell_type": "code",
      "metadata": {
        "id": "saz3YPn6bX9E",
        "colab_type": "code",
        "colab": {}
      },
      "source": [
        "##### Federated Learning #####\n",
        "# Client Local Training\n",
        "def client_update(client_model, optimizer, train_loader, epoch=5):\n",
        "    model.train()\n",
        "    for e in range(epoch):\n",
        "        for batch_idx, (data, target) in enumerate(train_loader):\n",
        "            data, target = data.cuda(), target.cuda()\n",
        "            optimizer.zero_grad()\n",
        "            output = client_model(data)\n",
        "            loss = F.cross_entropy(output, target)\n",
        "            loss.backward()\n",
        "            optimizer.step()\n",
        "    return loss.item()"
      ],
      "execution_count": null,
      "outputs": []
    },
    {
      "cell_type": "code",
      "metadata": {
        "id": "9AP-1Uv6b8Yv",
        "colab_type": "code",
        "colab": {}
      },
      "source": [
        "##### Federated Learning #####\n",
        "# Server aggregating\n",
        "def server_aggregate(global_model, client_models):\n",
        "      global_dict = global_model.state_dict()\n",
        "      for k in global_dict.keys():\n",
        "          global_dict[k] = torch.stack([client_models[i].state_dict()[k].float() for i in range(len(client_models))], 0).mean(0)\n",
        "      global_model.load_state_dict(global_dict)\n",
        "      for model in client_models:\n",
        "          model.load_state_dict(global_model.state_dict())"
      ],
      "execution_count": null,
      "outputs": []
    },
    {
      "cell_type": "code",
      "metadata": {
        "id": "Ql_yS4V1hm0b",
        "colab_type": "code",
        "colab": {}
      },
      "source": [
        "# Test\n",
        "def test(global_model, test_loader):\n",
        "    model.eval()\n",
        "    test_loss = 0\n",
        "    correct = 0\n",
        "    with torch.no_grad():\n",
        "        for data, target in test_loader:\n",
        "            data, target = data.cuda(), target.cuda()\n",
        "            output = global_model(data)\n",
        "            test_loss += F.cross_entropy(output, target, reduction='sum').item()  # sum up batch loss\n",
        "            pred = output.argmax(dim=1, keepdim=True)  # get the index of the max log-probability\n",
        "            correct += pred.eq(target.view_as(pred)).sum().item()\n",
        "\n",
        "    test_loss /= len(test_loader.dataset)\n",
        "    acc = correct / len(test_loader.dataset)\n",
        "\n",
        "    return test_loss, acc"
      ],
      "execution_count": null,
      "outputs": []
    },
    {
      "cell_type": "code",
      "metadata": {
        "id": "mYVm_HJRcRqB",
        "colab_type": "code",
        "colab": {}
      },
      "source": [
        "#### Initializing models and optimizer  ####\n",
        "\n",
        "# global model \n",
        "global_model = vgg19.cuda()\n",
        "\n",
        "# client models \n",
        "client_models = [vgg19.cuda() for _ in range(num_selected)]\n",
        "\n",
        "for model in client_models:\n",
        "    model.load_state_dict(global_model.state_dict()) ### initial synchronizing with global model \n",
        "\n",
        "# optimizers\n",
        "opt = [optim.SGD(model.parameters(), lr=0.01) for model in client_models]"
      ],
      "execution_count": null,
      "outputs": []
    },
    {
      "cell_type": "code",
      "metadata": {
        "id": "CJsHklbRcuf1",
        "colab_type": "code",
        "colab": {
          "base_uri": "https://localhost:8080/",
          "height": 1000
        },
        "outputId": "a7fa253e-6434-4283-c5ef-b5e4145836a8"
      },
      "source": [
        "###### List containing info about learning #########\n",
        "losses_train = []\n",
        "losses_test = []\n",
        "acc_train = []\n",
        "acc_test = []\n",
        "# Runnining FL\n",
        "\n",
        "for r in range(num_rounds):\n",
        "    # select random clients\n",
        "    client_idx = np.random.permutation(num_clients)[:num_selected]\n",
        "    # client update\n",
        "    loss = 0\n",
        "    for i in tqdm(range(num_selected)):\n",
        "        loss += client_update(client_models[i], opt[i], train_loader[client_idx[i]], epoch=epochs)\n",
        "    \n",
        "    losses_train.append(loss)\n",
        "    # server aggregate\n",
        "    server_aggregate(global_model, client_models)\n",
        "    \n",
        "    test_loss, acc = test(global_model, test_loader)\n",
        "    losses_test.append(test_loss)\n",
        "    acc_test.append(acc)\n",
        "    print('%d-th round' % r)\n",
        "    print('average train loss %0.3g | test loss %0.3g | test acc: %0.3f' % (loss / num_selected, test_loss, acc))\n"
      ],
      "execution_count": null,
      "outputs": [
        {
          "output_type": "stream",
          "text": [
            "100%|██████████| 6/6 [04:12<00:00, 42.03s/it]\n",
            "  0%|          | 0/6 [00:00<?, ?it/s]"
          ],
          "name": "stderr"
        },
        {
          "output_type": "stream",
          "text": [
            "0-th round\n",
            "average train loss 1.74 | test loss 1.68 | test acc: 0.470\n"
          ],
          "name": "stdout"
        },
        {
          "output_type": "stream",
          "text": [
            "100%|██████████| 6/6 [04:10<00:00, 41.71s/it]\n",
            "  0%|          | 0/6 [00:00<?, ?it/s]"
          ],
          "name": "stderr"
        },
        {
          "output_type": "stream",
          "text": [
            "1-th round\n",
            "average train loss 1.26 | test loss 2.23 | test acc: 0.425\n"
          ],
          "name": "stdout"
        },
        {
          "output_type": "stream",
          "text": [
            "100%|██████████| 6/6 [04:10<00:00, 41.75s/it]\n",
            "  0%|          | 0/6 [00:00<?, ?it/s]"
          ],
          "name": "stderr"
        },
        {
          "output_type": "stream",
          "text": [
            "2-th round\n",
            "average train loss 1.29 | test loss 1.01 | test acc: 0.664\n"
          ],
          "name": "stdout"
        },
        {
          "output_type": "stream",
          "text": [
            "100%|██████████| 6/6 [04:09<00:00, 41.65s/it]\n",
            "  0%|          | 0/6 [00:00<?, ?it/s]"
          ],
          "name": "stderr"
        },
        {
          "output_type": "stream",
          "text": [
            "3-th round\n",
            "average train loss 1.32 | test loss 0.836 | test acc: 0.723\n"
          ],
          "name": "stdout"
        },
        {
          "output_type": "stream",
          "text": [
            "100%|██████████| 6/6 [04:09<00:00, 41.57s/it]\n",
            "  0%|          | 0/6 [00:00<?, ?it/s]"
          ],
          "name": "stderr"
        },
        {
          "output_type": "stream",
          "text": [
            "4-th round\n",
            "average train loss 1.22 | test loss 0.717 | test acc: 0.756\n"
          ],
          "name": "stdout"
        },
        {
          "output_type": "stream",
          "text": [
            "100%|██████████| 6/6 [04:10<00:00, 41.71s/it]\n",
            "  0%|          | 0/6 [00:00<?, ?it/s]"
          ],
          "name": "stderr"
        },
        {
          "output_type": "stream",
          "text": [
            "5-th round\n",
            "average train loss 1.27 | test loss 0.69 | test acc: 0.779\n"
          ],
          "name": "stdout"
        },
        {
          "output_type": "stream",
          "text": [
            "100%|██████████| 6/6 [04:10<00:00, 41.74s/it]\n",
            "  0%|          | 0/6 [00:00<?, ?it/s]"
          ],
          "name": "stderr"
        },
        {
          "output_type": "stream",
          "text": [
            "6-th round\n",
            "average train loss 0.838 | test loss 0.796 | test acc: 0.756\n"
          ],
          "name": "stdout"
        },
        {
          "output_type": "stream",
          "text": [
            "100%|██████████| 6/6 [04:10<00:00, 41.74s/it]\n",
            "  0%|          | 0/6 [00:00<?, ?it/s]"
          ],
          "name": "stderr"
        },
        {
          "output_type": "stream",
          "text": [
            "7-th round\n",
            "average train loss 0.677 | test loss 0.621 | test acc: 0.790\n"
          ],
          "name": "stdout"
        },
        {
          "output_type": "stream",
          "text": [
            "100%|██████████| 6/6 [04:09<00:00, 41.66s/it]\n",
            "  0%|          | 0/6 [00:00<?, ?it/s]"
          ],
          "name": "stderr"
        },
        {
          "output_type": "stream",
          "text": [
            "8-th round\n",
            "average train loss 0.492 | test loss 4.02 | test acc: 0.431\n"
          ],
          "name": "stdout"
        },
        {
          "output_type": "stream",
          "text": [
            "100%|██████████| 6/6 [04:09<00:00, 41.51s/it]\n",
            "  0%|          | 0/6 [00:00<?, ?it/s]"
          ],
          "name": "stderr"
        },
        {
          "output_type": "stream",
          "text": [
            "9-th round\n",
            "average train loss 0.52 | test loss 0.889 | test acc: 0.721\n"
          ],
          "name": "stdout"
        },
        {
          "output_type": "stream",
          "text": [
            "100%|██████████| 6/6 [04:09<00:00, 41.64s/it]\n",
            "  0%|          | 0/6 [00:00<?, ?it/s]"
          ],
          "name": "stderr"
        },
        {
          "output_type": "stream",
          "text": [
            "10-th round\n",
            "average train loss 0.726 | test loss 0.682 | test acc: 0.788\n"
          ],
          "name": "stdout"
        },
        {
          "output_type": "stream",
          "text": [
            "100%|██████████| 6/6 [04:09<00:00, 41.57s/it]\n",
            "  0%|          | 0/6 [00:00<?, ?it/s]"
          ],
          "name": "stderr"
        },
        {
          "output_type": "stream",
          "text": [
            "11-th round\n",
            "average train loss 0.823 | test loss 0.569 | test acc: 0.821\n"
          ],
          "name": "stdout"
        },
        {
          "output_type": "stream",
          "text": [
            "100%|██████████| 6/6 [04:09<00:00, 41.66s/it]\n",
            "  0%|          | 0/6 [00:00<?, ?it/s]"
          ],
          "name": "stderr"
        },
        {
          "output_type": "stream",
          "text": [
            "12-th round\n",
            "average train loss 1.37 | test loss 0.723 | test acc: 0.792\n"
          ],
          "name": "stdout"
        },
        {
          "output_type": "stream",
          "text": [
            "100%|██████████| 6/6 [04:10<00:00, 41.68s/it]\n",
            "  0%|          | 0/6 [00:00<?, ?it/s]"
          ],
          "name": "stderr"
        },
        {
          "output_type": "stream",
          "text": [
            "13-th round\n",
            "average train loss 0.071 | test loss 0.711 | test acc: 0.799\n"
          ],
          "name": "stdout"
        },
        {
          "output_type": "stream",
          "text": [
            "100%|██████████| 6/6 [04:10<00:00, 41.69s/it]\n",
            "  0%|          | 0/6 [00:00<?, ?it/s]"
          ],
          "name": "stderr"
        },
        {
          "output_type": "stream",
          "text": [
            "14-th round\n",
            "average train loss 0.475 | test loss 0.491 | test acc: 0.841\n"
          ],
          "name": "stdout"
        },
        {
          "output_type": "stream",
          "text": [
            "100%|██████████| 6/6 [04:10<00:00, 41.69s/it]\n",
            "  0%|          | 0/6 [00:00<?, ?it/s]"
          ],
          "name": "stderr"
        },
        {
          "output_type": "stream",
          "text": [
            "15-th round\n",
            "average train loss 0.711 | test loss 0.544 | test acc: 0.846\n"
          ],
          "name": "stdout"
        },
        {
          "output_type": "stream",
          "text": [
            "100%|██████████| 6/6 [04:10<00:00, 41.68s/it]\n",
            "  0%|          | 0/6 [00:00<?, ?it/s]"
          ],
          "name": "stderr"
        },
        {
          "output_type": "stream",
          "text": [
            "16-th round\n",
            "average train loss 1.29 | test loss 1.84 | test acc: 0.636\n"
          ],
          "name": "stdout"
        },
        {
          "output_type": "stream",
          "text": [
            "100%|██████████| 6/6 [04:10<00:00, 41.73s/it]\n",
            "  0%|          | 0/6 [00:00<?, ?it/s]"
          ],
          "name": "stderr"
        },
        {
          "output_type": "stream",
          "text": [
            "17-th round\n",
            "average train loss 0.668 | test loss 0.599 | test acc: 0.832\n"
          ],
          "name": "stdout"
        },
        {
          "output_type": "stream",
          "text": [
            "100%|██████████| 6/6 [04:10<00:00, 41.72s/it]\n",
            "  0%|          | 0/6 [00:00<?, ?it/s]"
          ],
          "name": "stderr"
        },
        {
          "output_type": "stream",
          "text": [
            "18-th round\n",
            "average train loss 0.59 | test loss 0.55 | test acc: 0.835\n"
          ],
          "name": "stdout"
        },
        {
          "output_type": "stream",
          "text": [
            "100%|██████████| 6/6 [04:10<00:00, 41.71s/it]\n",
            "  0%|          | 0/6 [00:00<?, ?it/s]"
          ],
          "name": "stderr"
        },
        {
          "output_type": "stream",
          "text": [
            "19-th round\n",
            "average train loss 0.291 | test loss 0.645 | test acc: 0.819\n"
          ],
          "name": "stdout"
        },
        {
          "output_type": "stream",
          "text": [
            "100%|██████████| 6/6 [04:09<00:00, 41.62s/it]\n",
            "  0%|          | 0/6 [00:00<?, ?it/s]"
          ],
          "name": "stderr"
        },
        {
          "output_type": "stream",
          "text": [
            "20-th round\n",
            "average train loss 0.0903 | test loss 0.538 | test acc: 0.837\n"
          ],
          "name": "stdout"
        },
        {
          "output_type": "stream",
          "text": [
            "100%|██████████| 6/6 [04:09<00:00, 41.63s/it]\n",
            "  0%|          | 0/6 [00:00<?, ?it/s]"
          ],
          "name": "stderr"
        },
        {
          "output_type": "stream",
          "text": [
            "21-th round\n",
            "average train loss 0.495 | test loss 1.31 | test acc: 0.721\n"
          ],
          "name": "stdout"
        },
        {
          "output_type": "stream",
          "text": [
            "100%|██████████| 6/6 [04:09<00:00, 41.58s/it]\n",
            "  0%|          | 0/6 [00:00<?, ?it/s]"
          ],
          "name": "stderr"
        },
        {
          "output_type": "stream",
          "text": [
            "22-th round\n",
            "average train loss 0.652 | test loss 0.464 | test acc: 0.856\n"
          ],
          "name": "stdout"
        },
        {
          "output_type": "stream",
          "text": [
            "100%|██████████| 6/6 [04:09<00:00, 41.66s/it]\n",
            "  0%|          | 0/6 [00:00<?, ?it/s]"
          ],
          "name": "stderr"
        },
        {
          "output_type": "stream",
          "text": [
            "23-th round\n",
            "average train loss 0.531 | test loss 0.446 | test acc: 0.864\n"
          ],
          "name": "stdout"
        },
        {
          "output_type": "stream",
          "text": [
            "100%|██████████| 6/6 [04:10<00:00, 41.68s/it]\n",
            "  0%|          | 0/6 [00:00<?, ?it/s]"
          ],
          "name": "stderr"
        },
        {
          "output_type": "stream",
          "text": [
            "24-th round\n",
            "average train loss 0.0578 | test loss 0.576 | test acc: 0.847\n"
          ],
          "name": "stdout"
        },
        {
          "output_type": "stream",
          "text": [
            "100%|██████████| 6/6 [04:10<00:00, 41.71s/it]\n",
            "  0%|          | 0/6 [00:00<?, ?it/s]"
          ],
          "name": "stderr"
        },
        {
          "output_type": "stream",
          "text": [
            "25-th round\n",
            "average train loss 0.424 | test loss 0.502 | test acc: 0.851\n"
          ],
          "name": "stdout"
        },
        {
          "output_type": "stream",
          "text": [
            "100%|██████████| 6/6 [04:10<00:00, 41.69s/it]\n",
            "  0%|          | 0/6 [00:00<?, ?it/s]"
          ],
          "name": "stderr"
        },
        {
          "output_type": "stream",
          "text": [
            "26-th round\n",
            "average train loss 0.0431 | test loss 0.432 | test acc: 0.871\n"
          ],
          "name": "stdout"
        },
        {
          "output_type": "stream",
          "text": [
            "100%|██████████| 6/6 [04:10<00:00, 41.71s/it]\n",
            "  0%|          | 0/6 [00:00<?, ?it/s]"
          ],
          "name": "stderr"
        },
        {
          "output_type": "stream",
          "text": [
            "27-th round\n",
            "average train loss 0.358 | test loss 0.488 | test acc: 0.862\n"
          ],
          "name": "stdout"
        },
        {
          "output_type": "stream",
          "text": [
            "100%|██████████| 6/6 [04:10<00:00, 41.70s/it]\n",
            "  0%|          | 0/6 [00:00<?, ?it/s]"
          ],
          "name": "stderr"
        },
        {
          "output_type": "stream",
          "text": [
            "28-th round\n",
            "average train loss 0.65 | test loss 0.49 | test acc: 0.874\n"
          ],
          "name": "stdout"
        },
        {
          "output_type": "stream",
          "text": [
            "100%|██████████| 6/6 [04:10<00:00, 41.72s/it]\n",
            "  0%|          | 0/6 [00:00<?, ?it/s]"
          ],
          "name": "stderr"
        },
        {
          "output_type": "stream",
          "text": [
            "29-th round\n",
            "average train loss 0.132 | test loss 0.458 | test acc: 0.871\n"
          ],
          "name": "stdout"
        },
        {
          "output_type": "stream",
          "text": [
            "100%|██████████| 6/6 [04:10<00:00, 41.68s/it]\n",
            "  0%|          | 0/6 [00:00<?, ?it/s]"
          ],
          "name": "stderr"
        },
        {
          "output_type": "stream",
          "text": [
            "30-th round\n",
            "average train loss 0.535 | test loss 0.689 | test acc: 0.822\n"
          ],
          "name": "stdout"
        },
        {
          "output_type": "stream",
          "text": [
            "100%|██████████| 6/6 [04:10<00:00, 41.67s/it]\n",
            "  0%|          | 0/6 [00:00<?, ?it/s]"
          ],
          "name": "stderr"
        },
        {
          "output_type": "stream",
          "text": [
            "31-th round\n",
            "average train loss 0.0936 | test loss 0.486 | test acc: 0.869\n"
          ],
          "name": "stdout"
        },
        {
          "output_type": "stream",
          "text": [
            "100%|██████████| 6/6 [04:10<00:00, 41.69s/it]\n",
            "  0%|          | 0/6 [00:00<?, ?it/s]"
          ],
          "name": "stderr"
        },
        {
          "output_type": "stream",
          "text": [
            "32-th round\n",
            "average train loss 0.426 | test loss 1.03 | test acc: 0.796\n"
          ],
          "name": "stdout"
        },
        {
          "output_type": "stream",
          "text": [
            "100%|██████████| 6/6 [04:10<00:00, 41.69s/it]\n",
            "  0%|          | 0/6 [00:00<?, ?it/s]"
          ],
          "name": "stderr"
        },
        {
          "output_type": "stream",
          "text": [
            "33-th round\n",
            "average train loss 0.636 | test loss 0.477 | test acc: 0.872\n"
          ],
          "name": "stdout"
        },
        {
          "output_type": "stream",
          "text": [
            "100%|██████████| 6/6 [04:10<00:00, 41.69s/it]\n",
            "  0%|          | 0/6 [00:00<?, ?it/s]"
          ],
          "name": "stderr"
        },
        {
          "output_type": "stream",
          "text": [
            "34-th round\n",
            "average train loss 0.223 | test loss 0.499 | test acc: 0.877\n"
          ],
          "name": "stdout"
        },
        {
          "output_type": "stream",
          "text": [
            "100%|██████████| 6/6 [04:10<00:00, 41.71s/it]\n",
            "  0%|          | 0/6 [00:00<?, ?it/s]"
          ],
          "name": "stderr"
        },
        {
          "output_type": "stream",
          "text": [
            "35-th round\n",
            "average train loss 0.162 | test loss 0.444 | test acc: 0.878\n"
          ],
          "name": "stdout"
        },
        {
          "output_type": "stream",
          "text": [
            "100%|██████████| 6/6 [04:10<00:00, 41.72s/it]\n",
            "  0%|          | 0/6 [00:00<?, ?it/s]"
          ],
          "name": "stderr"
        },
        {
          "output_type": "stream",
          "text": [
            "36-th round\n",
            "average train loss 0.111 | test loss 0.43 | test acc: 0.881\n"
          ],
          "name": "stdout"
        },
        {
          "output_type": "stream",
          "text": [
            "100%|██████████| 6/6 [04:10<00:00, 41.75s/it]\n",
            "  0%|          | 0/6 [00:00<?, ?it/s]"
          ],
          "name": "stderr"
        },
        {
          "output_type": "stream",
          "text": [
            "37-th round\n",
            "average train loss 0.275 | test loss 0.734 | test acc: 0.829\n"
          ],
          "name": "stdout"
        },
        {
          "output_type": "stream",
          "text": [
            "100%|██████████| 6/6 [04:10<00:00, 41.75s/it]\n",
            "  0%|          | 0/6 [00:00<?, ?it/s]"
          ],
          "name": "stderr"
        },
        {
          "output_type": "stream",
          "text": [
            "38-th round\n",
            "average train loss 0.563 | test loss 0.472 | test acc: 0.880\n"
          ],
          "name": "stdout"
        },
        {
          "output_type": "stream",
          "text": [
            "100%|██████████| 6/6 [04:10<00:00, 41.76s/it]\n",
            "  0%|          | 0/6 [00:00<?, ?it/s]"
          ],
          "name": "stderr"
        },
        {
          "output_type": "stream",
          "text": [
            "39-th round\n",
            "average train loss 0.532 | test loss 0.485 | test acc: 0.876\n"
          ],
          "name": "stdout"
        },
        {
          "output_type": "stream",
          "text": [
            "100%|██████████| 6/6 [04:10<00:00, 41.75s/it]\n",
            "  0%|          | 0/6 [00:00<?, ?it/s]"
          ],
          "name": "stderr"
        },
        {
          "output_type": "stream",
          "text": [
            "40-th round\n",
            "average train loss 0.448 | test loss 0.431 | test acc: 0.879\n"
          ],
          "name": "stdout"
        },
        {
          "output_type": "stream",
          "text": [
            "100%|██████████| 6/6 [04:10<00:00, 41.77s/it]\n",
            "  0%|          | 0/6 [00:00<?, ?it/s]"
          ],
          "name": "stderr"
        },
        {
          "output_type": "stream",
          "text": [
            "41-th round\n",
            "average train loss 0.219 | test loss 0.499 | test acc: 0.870\n"
          ],
          "name": "stdout"
        },
        {
          "output_type": "stream",
          "text": [
            "100%|██████████| 6/6 [04:10<00:00, 41.79s/it]\n",
            "  0%|          | 0/6 [00:00<?, ?it/s]"
          ],
          "name": "stderr"
        },
        {
          "output_type": "stream",
          "text": [
            "42-th round\n",
            "average train loss 0.243 | test loss 0.488 | test acc: 0.884\n"
          ],
          "name": "stdout"
        },
        {
          "output_type": "stream",
          "text": [
            "100%|██████████| 6/6 [04:10<00:00, 41.76s/it]\n",
            "  0%|          | 0/6 [00:00<?, ?it/s]"
          ],
          "name": "stderr"
        },
        {
          "output_type": "stream",
          "text": [
            "43-th round\n",
            "average train loss 0.144 | test loss 0.522 | test acc: 0.863\n"
          ],
          "name": "stdout"
        },
        {
          "output_type": "stream",
          "text": [
            "100%|██████████| 6/6 [04:10<00:00, 41.73s/it]\n",
            "  0%|          | 0/6 [00:00<?, ?it/s]"
          ],
          "name": "stderr"
        },
        {
          "output_type": "stream",
          "text": [
            "44-th round\n",
            "average train loss 0.375 | test loss 0.473 | test acc: 0.876\n"
          ],
          "name": "stdout"
        },
        {
          "output_type": "stream",
          "text": [
            "100%|██████████| 6/6 [04:10<00:00, 41.74s/it]\n",
            "  0%|          | 0/6 [00:00<?, ?it/s]"
          ],
          "name": "stderr"
        },
        {
          "output_type": "stream",
          "text": [
            "45-th round\n",
            "average train loss 0.202 | test loss 0.429 | test acc: 0.887\n"
          ],
          "name": "stdout"
        },
        {
          "output_type": "stream",
          "text": [
            "100%|██████████| 6/6 [04:10<00:00, 41.72s/it]\n",
            "  0%|          | 0/6 [00:00<?, ?it/s]"
          ],
          "name": "stderr"
        },
        {
          "output_type": "stream",
          "text": [
            "46-th round\n",
            "average train loss 0.0559 | test loss 0.448 | test acc: 0.890\n"
          ],
          "name": "stdout"
        },
        {
          "output_type": "stream",
          "text": [
            "100%|██████████| 6/6 [04:10<00:00, 41.69s/it]\n",
            "  0%|          | 0/6 [00:00<?, ?it/s]"
          ],
          "name": "stderr"
        },
        {
          "output_type": "stream",
          "text": [
            "47-th round\n",
            "average train loss 0.0506 | test loss 0.464 | test acc: 0.883\n"
          ],
          "name": "stdout"
        },
        {
          "output_type": "stream",
          "text": [
            "100%|██████████| 6/6 [04:09<00:00, 41.64s/it]\n",
            "  0%|          | 0/6 [00:00<?, ?it/s]"
          ],
          "name": "stderr"
        },
        {
          "output_type": "stream",
          "text": [
            "48-th round\n",
            "average train loss 0.0207 | test loss 0.495 | test acc: 0.879\n"
          ],
          "name": "stdout"
        },
        {
          "output_type": "stream",
          "text": [
            "100%|██████████| 6/6 [04:09<00:00, 41.61s/it]\n",
            "  0%|          | 0/6 [00:00<?, ?it/s]"
          ],
          "name": "stderr"
        },
        {
          "output_type": "stream",
          "text": [
            "49-th round\n",
            "average train loss 0.571 | test loss 0.419 | test acc: 0.887\n"
          ],
          "name": "stdout"
        },
        {
          "output_type": "stream",
          "text": [
            "100%|██████████| 6/6 [04:10<00:00, 41.73s/it]\n",
            "  0%|          | 0/6 [00:00<?, ?it/s]"
          ],
          "name": "stderr"
        },
        {
          "output_type": "stream",
          "text": [
            "50-th round\n",
            "average train loss 0.313 | test loss 1.66 | test acc: 0.725\n"
          ],
          "name": "stdout"
        },
        {
          "output_type": "stream",
          "text": [
            "100%|██████████| 6/6 [04:10<00:00, 41.72s/it]\n",
            "  0%|          | 0/6 [00:00<?, ?it/s]"
          ],
          "name": "stderr"
        },
        {
          "output_type": "stream",
          "text": [
            "51-th round\n",
            "average train loss 0.209 | test loss 0.474 | test acc: 0.888\n"
          ],
          "name": "stdout"
        },
        {
          "output_type": "stream",
          "text": [
            "100%|██████████| 6/6 [04:10<00:00, 41.76s/it]\n",
            "  0%|          | 0/6 [00:00<?, ?it/s]"
          ],
          "name": "stderr"
        },
        {
          "output_type": "stream",
          "text": [
            "52-th round\n",
            "average train loss 0.33 | test loss 0.448 | test acc: 0.887\n"
          ],
          "name": "stdout"
        },
        {
          "output_type": "stream",
          "text": [
            "100%|██████████| 6/6 [04:10<00:00, 41.78s/it]\n",
            "  0%|          | 0/6 [00:00<?, ?it/s]"
          ],
          "name": "stderr"
        },
        {
          "output_type": "stream",
          "text": [
            "53-th round\n",
            "average train loss 0.345 | test loss 0.592 | test acc: 0.870\n"
          ],
          "name": "stdout"
        },
        {
          "output_type": "stream",
          "text": [
            "100%|██████████| 6/6 [04:10<00:00, 41.77s/it]\n",
            "  0%|          | 0/6 [00:00<?, ?it/s]"
          ],
          "name": "stderr"
        },
        {
          "output_type": "stream",
          "text": [
            "54-th round\n",
            "average train loss 0.0366 | test loss 0.479 | test acc: 0.887\n"
          ],
          "name": "stdout"
        },
        {
          "output_type": "stream",
          "text": [
            "100%|██████████| 6/6 [04:10<00:00, 41.77s/it]\n",
            "  0%|          | 0/6 [00:00<?, ?it/s]"
          ],
          "name": "stderr"
        },
        {
          "output_type": "stream",
          "text": [
            "55-th round\n",
            "average train loss 0.0419 | test loss 0.487 | test acc: 0.882\n"
          ],
          "name": "stdout"
        },
        {
          "output_type": "stream",
          "text": [
            "100%|██████████| 6/6 [04:10<00:00, 41.78s/it]\n",
            "  0%|          | 0/6 [00:00<?, ?it/s]"
          ],
          "name": "stderr"
        },
        {
          "output_type": "stream",
          "text": [
            "56-th round\n",
            "average train loss 0.237 | test loss 0.459 | test acc: 0.889\n"
          ],
          "name": "stdout"
        },
        {
          "output_type": "stream",
          "text": [
            "100%|██████████| 6/6 [04:10<00:00, 41.81s/it]\n",
            "  0%|          | 0/6 [00:00<?, ?it/s]"
          ],
          "name": "stderr"
        },
        {
          "output_type": "stream",
          "text": [
            "57-th round\n",
            "average train loss 0.022 | test loss 0.438 | test acc: 0.890\n"
          ],
          "name": "stdout"
        },
        {
          "output_type": "stream",
          "text": [
            "100%|██████████| 6/6 [04:10<00:00, 41.78s/it]\n",
            "  0%|          | 0/6 [00:00<?, ?it/s]"
          ],
          "name": "stderr"
        },
        {
          "output_type": "stream",
          "text": [
            "58-th round\n",
            "average train loss 0.0108 | test loss 0.439 | test acc: 0.897\n"
          ],
          "name": "stdout"
        },
        {
          "output_type": "stream",
          "text": [
            "100%|██████████| 6/6 [04:10<00:00, 41.80s/it]\n",
            "  0%|          | 0/6 [00:00<?, ?it/s]"
          ],
          "name": "stderr"
        },
        {
          "output_type": "stream",
          "text": [
            "59-th round\n",
            "average train loss 0.0917 | test loss 0.441 | test acc: 0.889\n"
          ],
          "name": "stdout"
        },
        {
          "output_type": "stream",
          "text": [
            "100%|██████████| 6/6 [04:10<00:00, 41.80s/it]\n",
            "  0%|          | 0/6 [00:00<?, ?it/s]"
          ],
          "name": "stderr"
        },
        {
          "output_type": "stream",
          "text": [
            "60-th round\n",
            "average train loss 0.385 | test loss 0.892 | test acc: 0.821\n"
          ],
          "name": "stdout"
        },
        {
          "output_type": "stream",
          "text": [
            "100%|██████████| 6/6 [04:10<00:00, 41.80s/it]\n",
            "  0%|          | 0/6 [00:00<?, ?it/s]"
          ],
          "name": "stderr"
        },
        {
          "output_type": "stream",
          "text": [
            "61-th round\n",
            "average train loss 0.0726 | test loss 0.446 | test acc: 0.886\n"
          ],
          "name": "stdout"
        },
        {
          "output_type": "stream",
          "text": [
            "100%|██████████| 6/6 [04:10<00:00, 41.82s/it]\n",
            "  0%|          | 0/6 [00:00<?, ?it/s]"
          ],
          "name": "stderr"
        },
        {
          "output_type": "stream",
          "text": [
            "62-th round\n",
            "average train loss 0.0831 | test loss 1.09 | test acc: 0.802\n"
          ],
          "name": "stdout"
        },
        {
          "output_type": "stream",
          "text": [
            "100%|██████████| 6/6 [04:10<00:00, 41.83s/it]\n",
            "  0%|          | 0/6 [00:00<?, ?it/s]"
          ],
          "name": "stderr"
        },
        {
          "output_type": "stream",
          "text": [
            "63-th round\n",
            "average train loss 0.253 | test loss 0.436 | test acc: 0.893\n"
          ],
          "name": "stdout"
        },
        {
          "output_type": "stream",
          "text": [
            "100%|██████████| 6/6 [04:11<00:00, 41.87s/it]\n",
            "  0%|          | 0/6 [00:00<?, ?it/s]"
          ],
          "name": "stderr"
        },
        {
          "output_type": "stream",
          "text": [
            "64-th round\n",
            "average train loss 0.207 | test loss 0.544 | test acc: 0.882\n"
          ],
          "name": "stdout"
        },
        {
          "output_type": "stream",
          "text": [
            "100%|██████████| 6/6 [04:11<00:00, 41.86s/it]\n",
            "  0%|          | 0/6 [00:00<?, ?it/s]"
          ],
          "name": "stderr"
        },
        {
          "output_type": "stream",
          "text": [
            "65-th round\n",
            "average train loss 0.0388 | test loss 0.465 | test acc: 0.892\n"
          ],
          "name": "stdout"
        },
        {
          "output_type": "stream",
          "text": [
            "100%|██████████| 6/6 [04:11<00:00, 41.86s/it]\n",
            "  0%|          | 0/6 [00:00<?, ?it/s]"
          ],
          "name": "stderr"
        },
        {
          "output_type": "stream",
          "text": [
            "66-th round\n",
            "average train loss 0.0374 | test loss 0.429 | test acc: 0.894\n"
          ],
          "name": "stdout"
        },
        {
          "output_type": "stream",
          "text": [
            "100%|██████████| 6/6 [04:11<00:00, 41.87s/it]\n",
            "  0%|          | 0/6 [00:00<?, ?it/s]"
          ],
          "name": "stderr"
        },
        {
          "output_type": "stream",
          "text": [
            "67-th round\n",
            "average train loss 0.333 | test loss 0.44 | test acc: 0.887\n"
          ],
          "name": "stdout"
        },
        {
          "output_type": "stream",
          "text": [
            "100%|██████████| 6/6 [04:11<00:00, 41.85s/it]\n",
            "  0%|          | 0/6 [00:00<?, ?it/s]"
          ],
          "name": "stderr"
        },
        {
          "output_type": "stream",
          "text": [
            "68-th round\n",
            "average train loss 0.0416 | test loss 0.453 | test acc: 0.892\n"
          ],
          "name": "stdout"
        },
        {
          "output_type": "stream",
          "text": [
            "100%|██████████| 6/6 [04:11<00:00, 41.85s/it]\n",
            "  0%|          | 0/6 [00:00<?, ?it/s]"
          ],
          "name": "stderr"
        },
        {
          "output_type": "stream",
          "text": [
            "69-th round\n",
            "average train loss 0.814 | test loss 0.654 | test acc: 0.861\n"
          ],
          "name": "stdout"
        },
        {
          "output_type": "stream",
          "text": [
            "100%|██████████| 6/6 [04:10<00:00, 41.82s/it]\n",
            "  0%|          | 0/6 [00:00<?, ?it/s]"
          ],
          "name": "stderr"
        },
        {
          "output_type": "stream",
          "text": [
            "70-th round\n",
            "average train loss 0.0767 | test loss 0.458 | test acc: 0.893\n"
          ],
          "name": "stdout"
        },
        {
          "output_type": "stream",
          "text": [
            "100%|██████████| 6/6 [04:10<00:00, 41.80s/it]\n",
            "  0%|          | 0/6 [00:00<?, ?it/s]"
          ],
          "name": "stderr"
        },
        {
          "output_type": "stream",
          "text": [
            "71-th round\n",
            "average train loss 0.0747 | test loss 0.453 | test acc: 0.891\n"
          ],
          "name": "stdout"
        },
        {
          "output_type": "stream",
          "text": [
            "100%|██████████| 6/6 [04:10<00:00, 41.83s/it]\n",
            "  0%|          | 0/6 [00:00<?, ?it/s]"
          ],
          "name": "stderr"
        },
        {
          "output_type": "stream",
          "text": [
            "72-th round\n",
            "average train loss 0.319 | test loss 2.33 | test acc: 0.708\n"
          ],
          "name": "stdout"
        },
        {
          "output_type": "stream",
          "text": [
            "100%|██████████| 6/6 [04:10<00:00, 41.81s/it]\n",
            "  0%|          | 0/6 [00:00<?, ?it/s]"
          ],
          "name": "stderr"
        },
        {
          "output_type": "stream",
          "text": [
            "73-th round\n",
            "average train loss 0.675 | test loss 0.447 | test acc: 0.893\n"
          ],
          "name": "stdout"
        },
        {
          "output_type": "stream",
          "text": [
            "100%|██████████| 6/6 [04:10<00:00, 41.79s/it]\n",
            "  0%|          | 0/6 [00:00<?, ?it/s]"
          ],
          "name": "stderr"
        },
        {
          "output_type": "stream",
          "text": [
            "74-th round\n",
            "average train loss 0.229 | test loss 0.789 | test acc: 0.840\n"
          ],
          "name": "stdout"
        },
        {
          "output_type": "stream",
          "text": [
            "100%|██████████| 6/6 [04:10<00:00, 41.71s/it]\n",
            "  0%|          | 0/6 [00:00<?, ?it/s]"
          ],
          "name": "stderr"
        },
        {
          "output_type": "stream",
          "text": [
            "75-th round\n",
            "average train loss 0.0155 | test loss 0.471 | test acc: 0.895\n"
          ],
          "name": "stdout"
        },
        {
          "output_type": "stream",
          "text": [
            "100%|██████████| 6/6 [04:10<00:00, 41.71s/it]\n",
            "  0%|          | 0/6 [00:00<?, ?it/s]"
          ],
          "name": "stderr"
        },
        {
          "output_type": "stream",
          "text": [
            "76-th round\n",
            "average train loss 0.0355 | test loss 0.894 | test acc: 0.828\n"
          ],
          "name": "stdout"
        },
        {
          "output_type": "stream",
          "text": [
            "100%|██████████| 6/6 [04:10<00:00, 41.71s/it]\n",
            "  0%|          | 0/6 [00:00<?, ?it/s]"
          ],
          "name": "stderr"
        },
        {
          "output_type": "stream",
          "text": [
            "77-th round\n",
            "average train loss 0.246 | test loss 2.43 | test acc: 0.632\n"
          ],
          "name": "stdout"
        },
        {
          "output_type": "stream",
          "text": [
            "100%|██████████| 6/6 [04:10<00:00, 41.78s/it]\n",
            "  0%|          | 0/6 [00:00<?, ?it/s]"
          ],
          "name": "stderr"
        },
        {
          "output_type": "stream",
          "text": [
            "78-th round\n",
            "average train loss 0.0389 | test loss 0.448 | test acc: 0.890\n"
          ],
          "name": "stdout"
        },
        {
          "output_type": "stream",
          "text": [
            "100%|██████████| 6/6 [04:11<00:00, 41.88s/it]\n",
            "  0%|          | 0/6 [00:00<?, ?it/s]"
          ],
          "name": "stderr"
        },
        {
          "output_type": "stream",
          "text": [
            "79-th round\n",
            "average train loss 0.603 | test loss 0.446 | test acc: 0.895\n"
          ],
          "name": "stdout"
        },
        {
          "output_type": "stream",
          "text": [
            "100%|██████████| 6/6 [04:11<00:00, 41.89s/it]\n",
            "  0%|          | 0/6 [00:00<?, ?it/s]"
          ],
          "name": "stderr"
        },
        {
          "output_type": "stream",
          "text": [
            "80-th round\n",
            "average train loss 0.0495 | test loss 0.473 | test acc: 0.881\n"
          ],
          "name": "stdout"
        },
        {
          "output_type": "stream",
          "text": [
            "100%|██████████| 6/6 [04:11<00:00, 41.89s/it]\n",
            "  0%|          | 0/6 [00:00<?, ?it/s]"
          ],
          "name": "stderr"
        },
        {
          "output_type": "stream",
          "text": [
            "81-th round\n",
            "average train loss 0.497 | test loss 0.637 | test acc: 0.862\n"
          ],
          "name": "stdout"
        },
        {
          "output_type": "stream",
          "text": [
            "100%|██████████| 6/6 [04:11<00:00, 41.89s/it]\n",
            "  0%|          | 0/6 [00:00<?, ?it/s]"
          ],
          "name": "stderr"
        },
        {
          "output_type": "stream",
          "text": [
            "82-th round\n",
            "average train loss 0.186 | test loss 0.42 | test acc: 0.897\n"
          ],
          "name": "stdout"
        },
        {
          "output_type": "stream",
          "text": [
            "100%|██████████| 6/6 [04:11<00:00, 41.87s/it]\n",
            "  0%|          | 0/6 [00:00<?, ?it/s]"
          ],
          "name": "stderr"
        },
        {
          "output_type": "stream",
          "text": [
            "83-th round\n",
            "average train loss 0.0373 | test loss 0.452 | test acc: 0.895\n"
          ],
          "name": "stdout"
        },
        {
          "output_type": "stream",
          "text": [
            "100%|██████████| 6/6 [04:11<00:00, 41.90s/it]\n",
            "  0%|          | 0/6 [00:00<?, ?it/s]"
          ],
          "name": "stderr"
        },
        {
          "output_type": "stream",
          "text": [
            "84-th round\n",
            "average train loss 0.00136 | test loss 0.45 | test acc: 0.890\n"
          ],
          "name": "stdout"
        },
        {
          "output_type": "stream",
          "text": [
            "100%|██████████| 6/6 [04:11<00:00, 41.88s/it]\n",
            "  0%|          | 0/6 [00:00<?, ?it/s]"
          ],
          "name": "stderr"
        },
        {
          "output_type": "stream",
          "text": [
            "85-th round\n",
            "average train loss 0.198 | test loss 0.443 | test acc: 0.896\n"
          ],
          "name": "stdout"
        },
        {
          "output_type": "stream",
          "text": [
            "100%|██████████| 6/6 [04:11<00:00, 41.88s/it]\n",
            "  0%|          | 0/6 [00:00<?, ?it/s]"
          ],
          "name": "stderr"
        },
        {
          "output_type": "stream",
          "text": [
            "86-th round\n",
            "average train loss 0.768 | test loss 0.502 | test acc: 0.881\n"
          ],
          "name": "stdout"
        },
        {
          "output_type": "stream",
          "text": [
            "100%|██████████| 6/6 [04:11<00:00, 41.89s/it]\n",
            "  0%|          | 0/6 [00:00<?, ?it/s]"
          ],
          "name": "stderr"
        },
        {
          "output_type": "stream",
          "text": [
            "87-th round\n",
            "average train loss 0.00107 | test loss 0.468 | test acc: 0.895\n"
          ],
          "name": "stdout"
        },
        {
          "output_type": "stream",
          "text": [
            "100%|██████████| 6/6 [04:11<00:00, 41.89s/it]\n",
            "  0%|          | 0/6 [00:00<?, ?it/s]"
          ],
          "name": "stderr"
        },
        {
          "output_type": "stream",
          "text": [
            "88-th round\n",
            "average train loss 0.727 | test loss 0.458 | test acc: 0.891\n"
          ],
          "name": "stdout"
        },
        {
          "output_type": "stream",
          "text": [
            "100%|██████████| 6/6 [04:11<00:00, 41.89s/it]\n",
            "  0%|          | 0/6 [00:00<?, ?it/s]"
          ],
          "name": "stderr"
        },
        {
          "output_type": "stream",
          "text": [
            "89-th round\n",
            "average train loss 0.108 | test loss 0.444 | test acc: 0.899\n"
          ],
          "name": "stdout"
        },
        {
          "output_type": "stream",
          "text": [
            "100%|██████████| 6/6 [04:11<00:00, 41.90s/it]\n",
            "  0%|          | 0/6 [00:00<?, ?it/s]"
          ],
          "name": "stderr"
        },
        {
          "output_type": "stream",
          "text": [
            "90-th round\n",
            "average train loss 0.0227 | test loss 0.438 | test acc: 0.888\n"
          ],
          "name": "stdout"
        },
        {
          "output_type": "stream",
          "text": [
            "100%|██████████| 6/6 [04:11<00:00, 41.88s/it]\n",
            "  0%|          | 0/6 [00:00<?, ?it/s]"
          ],
          "name": "stderr"
        },
        {
          "output_type": "stream",
          "text": [
            "91-th round\n",
            "average train loss 0.213 | test loss 0.54 | test acc: 0.881\n"
          ],
          "name": "stdout"
        },
        {
          "output_type": "stream",
          "text": [
            "100%|██████████| 6/6 [04:11<00:00, 41.90s/it]\n",
            "  0%|          | 0/6 [00:00<?, ?it/s]"
          ],
          "name": "stderr"
        },
        {
          "output_type": "stream",
          "text": [
            "92-th round\n",
            "average train loss 0.0513 | test loss 0.909 | test acc: 0.833\n"
          ],
          "name": "stdout"
        },
        {
          "output_type": "stream",
          "text": [
            "100%|██████████| 6/6 [04:11<00:00, 41.90s/it]\n",
            "  0%|          | 0/6 [00:00<?, ?it/s]"
          ],
          "name": "stderr"
        },
        {
          "output_type": "stream",
          "text": [
            "93-th round\n",
            "average train loss 0.126 | test loss 0.471 | test acc: 0.891\n"
          ],
          "name": "stdout"
        },
        {
          "output_type": "stream",
          "text": [
            "100%|██████████| 6/6 [04:11<00:00, 41.89s/it]\n",
            "  0%|          | 0/6 [00:00<?, ?it/s]"
          ],
          "name": "stderr"
        },
        {
          "output_type": "stream",
          "text": [
            "94-th round\n",
            "average train loss 0.00408 | test loss 0.446 | test acc: 0.900\n"
          ],
          "name": "stdout"
        },
        {
          "output_type": "stream",
          "text": [
            "100%|██████████| 6/6 [04:11<00:00, 41.90s/it]\n",
            "  0%|          | 0/6 [00:00<?, ?it/s]"
          ],
          "name": "stderr"
        },
        {
          "output_type": "stream",
          "text": [
            "95-th round\n",
            "average train loss 0.0251 | test loss 0.472 | test acc: 0.899\n"
          ],
          "name": "stdout"
        },
        {
          "output_type": "stream",
          "text": [
            "100%|██████████| 6/6 [04:11<00:00, 41.90s/it]\n",
            "  0%|          | 0/6 [00:00<?, ?it/s]"
          ],
          "name": "stderr"
        },
        {
          "output_type": "stream",
          "text": [
            "96-th round\n",
            "average train loss 0.00857 | test loss 0.458 | test acc: 0.895\n"
          ],
          "name": "stdout"
        },
        {
          "output_type": "stream",
          "text": [
            "100%|██████████| 6/6 [04:11<00:00, 41.88s/it]\n",
            "  0%|          | 0/6 [00:00<?, ?it/s]"
          ],
          "name": "stderr"
        },
        {
          "output_type": "stream",
          "text": [
            "97-th round\n",
            "average train loss 0.000606 | test loss 0.448 | test acc: 0.901\n"
          ],
          "name": "stdout"
        },
        {
          "output_type": "stream",
          "text": [
            "100%|██████████| 6/6 [04:11<00:00, 41.89s/it]\n",
            "  0%|          | 0/6 [00:00<?, ?it/s]"
          ],
          "name": "stderr"
        },
        {
          "output_type": "stream",
          "text": [
            "98-th round\n",
            "average train loss 0.0242 | test loss 0.452 | test acc: 0.900\n"
          ],
          "name": "stdout"
        },
        {
          "output_type": "stream",
          "text": [
            "100%|██████████| 6/6 [04:11<00:00, 41.88s/it]\n",
            "  0%|          | 0/6 [00:00<?, ?it/s]"
          ],
          "name": "stderr"
        },
        {
          "output_type": "stream",
          "text": [
            "99-th round\n",
            "average train loss 0.127 | test loss 0.465 | test acc: 0.897\n"
          ],
          "name": "stdout"
        },
        {
          "output_type": "stream",
          "text": [
            "100%|██████████| 6/6 [04:11<00:00, 41.89s/it]\n",
            "  0%|          | 0/6 [00:00<?, ?it/s]"
          ],
          "name": "stderr"
        },
        {
          "output_type": "stream",
          "text": [
            "100-th round\n",
            "average train loss 0.0103 | test loss 0.487 | test acc: 0.897\n"
          ],
          "name": "stdout"
        },
        {
          "output_type": "stream",
          "text": [
            "100%|██████████| 6/6 [04:11<00:00, 41.89s/it]\n",
            "  0%|          | 0/6 [00:00<?, ?it/s]"
          ],
          "name": "stderr"
        },
        {
          "output_type": "stream",
          "text": [
            "101-th round\n",
            "average train loss 0.297 | test loss 0.461 | test acc: 0.895\n"
          ],
          "name": "stdout"
        },
        {
          "output_type": "stream",
          "text": [
            "100%|██████████| 6/6 [04:11<00:00, 41.90s/it]\n",
            "  0%|          | 0/6 [00:00<?, ?it/s]"
          ],
          "name": "stderr"
        },
        {
          "output_type": "stream",
          "text": [
            "102-th round\n",
            "average train loss 0.0107 | test loss 0.49 | test acc: 0.896\n"
          ],
          "name": "stdout"
        },
        {
          "output_type": "stream",
          "text": [
            "100%|██████████| 6/6 [04:11<00:00, 41.90s/it]\n",
            "  0%|          | 0/6 [00:00<?, ?it/s]"
          ],
          "name": "stderr"
        },
        {
          "output_type": "stream",
          "text": [
            "103-th round\n",
            "average train loss 0.181 | test loss 0.444 | test acc: 0.896\n"
          ],
          "name": "stdout"
        },
        {
          "output_type": "stream",
          "text": [
            "100%|██████████| 6/6 [04:11<00:00, 41.92s/it]\n",
            "  0%|          | 0/6 [00:00<?, ?it/s]"
          ],
          "name": "stderr"
        },
        {
          "output_type": "stream",
          "text": [
            "104-th round\n",
            "average train loss 0.178 | test loss 0.459 | test acc: 0.898\n"
          ],
          "name": "stdout"
        },
        {
          "output_type": "stream",
          "text": [
            "100%|██████████| 6/6 [04:11<00:00, 41.91s/it]\n",
            "  0%|          | 0/6 [00:00<?, ?it/s]"
          ],
          "name": "stderr"
        },
        {
          "output_type": "stream",
          "text": [
            "105-th round\n",
            "average train loss 0.361 | test loss 1.43 | test acc: 0.761\n"
          ],
          "name": "stdout"
        },
        {
          "output_type": "stream",
          "text": [
            "100%|██████████| 6/6 [04:11<00:00, 41.91s/it]\n",
            "  0%|          | 0/6 [00:00<?, ?it/s]"
          ],
          "name": "stderr"
        },
        {
          "output_type": "stream",
          "text": [
            "106-th round\n",
            "average train loss 0.00291 | test loss 0.452 | test acc: 0.895\n"
          ],
          "name": "stdout"
        },
        {
          "output_type": "stream",
          "text": [
            "100%|██████████| 6/6 [04:11<00:00, 41.94s/it]\n",
            "  0%|          | 0/6 [00:00<?, ?it/s]"
          ],
          "name": "stderr"
        },
        {
          "output_type": "stream",
          "text": [
            "107-th round\n",
            "average train loss 0.0705 | test loss 0.432 | test acc: 0.900\n"
          ],
          "name": "stdout"
        },
        {
          "output_type": "stream",
          "text": [
            "100%|██████████| 6/6 [04:11<00:00, 41.92s/it]\n",
            "  0%|          | 0/6 [00:00<?, ?it/s]"
          ],
          "name": "stderr"
        },
        {
          "output_type": "stream",
          "text": [
            "108-th round\n",
            "average train loss 0.514 | test loss 0.425 | test acc: 0.899\n"
          ],
          "name": "stdout"
        },
        {
          "output_type": "stream",
          "text": [
            "100%|██████████| 6/6 [04:11<00:00, 41.92s/it]\n",
            "  0%|          | 0/6 [00:00<?, ?it/s]"
          ],
          "name": "stderr"
        },
        {
          "output_type": "stream",
          "text": [
            "109-th round\n",
            "average train loss 0.273 | test loss 1.23 | test acc: 0.778\n"
          ],
          "name": "stdout"
        },
        {
          "output_type": "stream",
          "text": [
            "100%|██████████| 6/6 [04:11<00:00, 41.91s/it]\n",
            "  0%|          | 0/6 [00:00<?, ?it/s]"
          ],
          "name": "stderr"
        },
        {
          "output_type": "stream",
          "text": [
            "110-th round\n",
            "average train loss 0.104 | test loss 0.462 | test acc: 0.901\n"
          ],
          "name": "stdout"
        },
        {
          "output_type": "stream",
          "text": [
            "100%|██████████| 6/6 [04:11<00:00, 41.89s/it]\n",
            "  0%|          | 0/6 [00:00<?, ?it/s]"
          ],
          "name": "stderr"
        },
        {
          "output_type": "stream",
          "text": [
            "111-th round\n",
            "average train loss 0.0659 | test loss 0.485 | test acc: 0.893\n"
          ],
          "name": "stdout"
        },
        {
          "output_type": "stream",
          "text": [
            "100%|██████████| 6/6 [04:11<00:00, 41.93s/it]\n",
            "  0%|          | 0/6 [00:00<?, ?it/s]"
          ],
          "name": "stderr"
        },
        {
          "output_type": "stream",
          "text": [
            "112-th round\n",
            "average train loss 0.00204 | test loss 0.463 | test acc: 0.900\n"
          ],
          "name": "stdout"
        },
        {
          "output_type": "stream",
          "text": [
            "100%|██████████| 6/6 [04:11<00:00, 41.88s/it]\n",
            "  0%|          | 0/6 [00:00<?, ?it/s]"
          ],
          "name": "stderr"
        },
        {
          "output_type": "stream",
          "text": [
            "113-th round\n",
            "average train loss 0.0153 | test loss 0.437 | test acc: 0.898\n"
          ],
          "name": "stdout"
        },
        {
          "output_type": "stream",
          "text": [
            "100%|██████████| 6/6 [04:11<00:00, 41.90s/it]\n",
            "  0%|          | 0/6 [00:00<?, ?it/s]"
          ],
          "name": "stderr"
        },
        {
          "output_type": "stream",
          "text": [
            "114-th round\n",
            "average train loss 0.0828 | test loss 0.474 | test acc: 0.902\n"
          ],
          "name": "stdout"
        },
        {
          "output_type": "stream",
          "text": [
            "100%|██████████| 6/6 [04:11<00:00, 41.90s/it]\n",
            "  0%|          | 0/6 [00:00<?, ?it/s]"
          ],
          "name": "stderr"
        },
        {
          "output_type": "stream",
          "text": [
            "115-th round\n",
            "average train loss 0.126 | test loss 0.44 | test acc: 0.898\n"
          ],
          "name": "stdout"
        },
        {
          "output_type": "stream",
          "text": [
            "100%|██████████| 6/6 [04:11<00:00, 41.90s/it]\n",
            "  0%|          | 0/6 [00:00<?, ?it/s]"
          ],
          "name": "stderr"
        },
        {
          "output_type": "stream",
          "text": [
            "116-th round\n",
            "average train loss 0.262 | test loss 0.454 | test acc: 0.898\n"
          ],
          "name": "stdout"
        },
        {
          "output_type": "stream",
          "text": [
            "100%|██████████| 6/6 [04:11<00:00, 41.89s/it]\n",
            "  0%|          | 0/6 [00:00<?, ?it/s]"
          ],
          "name": "stderr"
        },
        {
          "output_type": "stream",
          "text": [
            "117-th round\n",
            "average train loss 0.0199 | test loss 0.516 | test acc: 0.899\n"
          ],
          "name": "stdout"
        },
        {
          "output_type": "stream",
          "text": [
            "100%|██████████| 6/6 [04:11<00:00, 41.88s/it]\n",
            "  0%|          | 0/6 [00:00<?, ?it/s]"
          ],
          "name": "stderr"
        },
        {
          "output_type": "stream",
          "text": [
            "118-th round\n",
            "average train loss 0.352 | test loss 0.431 | test acc: 0.898\n"
          ],
          "name": "stdout"
        },
        {
          "output_type": "stream",
          "text": [
            "100%|██████████| 6/6 [04:11<00:00, 41.88s/it]\n",
            "  0%|          | 0/6 [00:00<?, ?it/s]"
          ],
          "name": "stderr"
        },
        {
          "output_type": "stream",
          "text": [
            "119-th round\n",
            "average train loss 0.016 | test loss 0.483 | test acc: 0.903\n"
          ],
          "name": "stdout"
        },
        {
          "output_type": "stream",
          "text": [
            "100%|██████████| 6/6 [04:10<00:00, 41.71s/it]\n",
            "  0%|          | 0/6 [00:00<?, ?it/s]"
          ],
          "name": "stderr"
        },
        {
          "output_type": "stream",
          "text": [
            "120-th round\n",
            "average train loss 0.0725 | test loss 0.441 | test acc: 0.898\n"
          ],
          "name": "stdout"
        },
        {
          "output_type": "stream",
          "text": [
            "100%|██████████| 6/6 [04:11<00:00, 41.86s/it]\n",
            "  0%|          | 0/6 [00:00<?, ?it/s]"
          ],
          "name": "stderr"
        },
        {
          "output_type": "stream",
          "text": [
            "121-th round\n",
            "average train loss 0.0389 | test loss 0.465 | test acc: 0.900\n"
          ],
          "name": "stdout"
        },
        {
          "output_type": "stream",
          "text": [
            "100%|██████████| 6/6 [04:11<00:00, 41.87s/it]\n",
            "  0%|          | 0/6 [00:00<?, ?it/s]"
          ],
          "name": "stderr"
        },
        {
          "output_type": "stream",
          "text": [
            "122-th round\n",
            "average train loss 0.125 | test loss 0.446 | test acc: 0.904\n"
          ],
          "name": "stdout"
        },
        {
          "output_type": "stream",
          "text": [
            "100%|██████████| 6/6 [04:11<00:00, 41.85s/it]\n",
            "  0%|          | 0/6 [00:00<?, ?it/s]"
          ],
          "name": "stderr"
        },
        {
          "output_type": "stream",
          "text": [
            "123-th round\n",
            "average train loss 0.319 | test loss 0.471 | test acc: 0.901\n"
          ],
          "name": "stdout"
        },
        {
          "output_type": "stream",
          "text": [
            "100%|██████████| 6/6 [04:10<00:00, 41.82s/it]\n",
            "  0%|          | 0/6 [00:00<?, ?it/s]"
          ],
          "name": "stderr"
        },
        {
          "output_type": "stream",
          "text": [
            "124-th round\n",
            "average train loss 0.00425 | test loss 0.497 | test acc: 0.900\n"
          ],
          "name": "stdout"
        },
        {
          "output_type": "stream",
          "text": [
            "100%|██████████| 6/6 [04:10<00:00, 41.82s/it]\n",
            "  0%|          | 0/6 [00:00<?, ?it/s]"
          ],
          "name": "stderr"
        },
        {
          "output_type": "stream",
          "text": [
            "125-th round\n",
            "average train loss 0.0861 | test loss 0.441 | test acc: 0.899\n"
          ],
          "name": "stdout"
        },
        {
          "output_type": "stream",
          "text": [
            "100%|██████████| 6/6 [04:10<00:00, 41.82s/it]\n",
            "  0%|          | 0/6 [00:00<?, ?it/s]"
          ],
          "name": "stderr"
        },
        {
          "output_type": "stream",
          "text": [
            "126-th round\n",
            "average train loss 0.00349 | test loss 0.461 | test acc: 0.902\n"
          ],
          "name": "stdout"
        },
        {
          "output_type": "stream",
          "text": [
            "100%|██████████| 6/6 [04:10<00:00, 41.79s/it]\n",
            "  0%|          | 0/6 [00:00<?, ?it/s]"
          ],
          "name": "stderr"
        },
        {
          "output_type": "stream",
          "text": [
            "127-th round\n",
            "average train loss 0.418 | test loss 0.469 | test acc: 0.898\n"
          ],
          "name": "stdout"
        },
        {
          "output_type": "stream",
          "text": [
            "100%|██████████| 6/6 [04:10<00:00, 41.78s/it]\n",
            "  0%|          | 0/6 [00:00<?, ?it/s]"
          ],
          "name": "stderr"
        },
        {
          "output_type": "stream",
          "text": [
            "128-th round\n",
            "average train loss 0.00574 | test loss 0.482 | test acc: 0.903\n"
          ],
          "name": "stdout"
        },
        {
          "output_type": "stream",
          "text": [
            "100%|██████████| 6/6 [04:10<00:00, 41.78s/it]\n",
            "  0%|          | 0/6 [00:00<?, ?it/s]"
          ],
          "name": "stderr"
        },
        {
          "output_type": "stream",
          "text": [
            "129-th round\n",
            "average train loss 0.0102 | test loss 0.451 | test acc: 0.901\n"
          ],
          "name": "stdout"
        },
        {
          "output_type": "stream",
          "text": [
            "100%|██████████| 6/6 [04:10<00:00, 41.76s/it]\n",
            "  0%|          | 0/6 [00:00<?, ?it/s]"
          ],
          "name": "stderr"
        },
        {
          "output_type": "stream",
          "text": [
            "130-th round\n",
            "average train loss 0.499 | test loss 0.666 | test acc: 0.872\n"
          ],
          "name": "stdout"
        },
        {
          "output_type": "stream",
          "text": [
            "100%|██████████| 6/6 [04:10<00:00, 41.77s/it]\n",
            "  0%|          | 0/6 [00:00<?, ?it/s]"
          ],
          "name": "stderr"
        },
        {
          "output_type": "stream",
          "text": [
            "131-th round\n",
            "average train loss 0.389 | test loss 0.427 | test acc: 0.899\n"
          ],
          "name": "stdout"
        },
        {
          "output_type": "stream",
          "text": [
            "100%|██████████| 6/6 [04:10<00:00, 41.79s/it]\n",
            "  0%|          | 0/6 [00:00<?, ?it/s]"
          ],
          "name": "stderr"
        },
        {
          "output_type": "stream",
          "text": [
            "132-th round\n",
            "average train loss 0.0251 | test loss 0.479 | test acc: 0.893\n"
          ],
          "name": "stdout"
        },
        {
          "output_type": "stream",
          "text": [
            "100%|██████████| 6/6 [04:11<00:00, 41.84s/it]\n",
            "  0%|          | 0/6 [00:00<?, ?it/s]"
          ],
          "name": "stderr"
        },
        {
          "output_type": "stream",
          "text": [
            "133-th round\n",
            "average train loss 0.146 | test loss 0.474 | test acc: 0.902\n"
          ],
          "name": "stdout"
        },
        {
          "output_type": "stream",
          "text": [
            "100%|██████████| 6/6 [04:10<00:00, 41.81s/it]\n",
            "  0%|          | 0/6 [00:00<?, ?it/s]"
          ],
          "name": "stderr"
        },
        {
          "output_type": "stream",
          "text": [
            "134-th round\n",
            "average train loss 0.192 | test loss 0.454 | test acc: 0.904\n"
          ],
          "name": "stdout"
        },
        {
          "output_type": "stream",
          "text": [
            "100%|██████████| 6/6 [04:10<00:00, 41.80s/it]\n",
            "  0%|          | 0/6 [00:00<?, ?it/s]"
          ],
          "name": "stderr"
        },
        {
          "output_type": "stream",
          "text": [
            "135-th round\n",
            "average train loss 0.0207 | test loss 0.482 | test acc: 0.904\n"
          ],
          "name": "stdout"
        },
        {
          "output_type": "stream",
          "text": [
            "100%|██████████| 6/6 [04:10<00:00, 41.81s/it]\n",
            "  0%|          | 0/6 [00:00<?, ?it/s]"
          ],
          "name": "stderr"
        },
        {
          "output_type": "stream",
          "text": [
            "136-th round\n",
            "average train loss 0.0342 | test loss 0.455 | test acc: 0.899\n"
          ],
          "name": "stdout"
        },
        {
          "output_type": "stream",
          "text": [
            " 33%|███▎      | 2/6 [01:23<02:47, 41.76s/it]"
          ],
          "name": "stderr"
        }
      ]
    },
    {
      "cell_type": "code",
      "metadata": {
        "id": "7XtFmaDWgyNR",
        "colab_type": "code",
        "colab": {
          "base_uri": "https://localhost:8080/",
          "height": 1000
        },
        "outputId": "e007d181-b5ad-4e93-c21d-8328a98627ce"
      },
      "source": [
        "# Centralized training\n",
        "traindata = datasets.CIFAR10('./data', train=True, download=True, transform= transform_train)\n",
        "\n",
        "# Creating a pytorch loader for a Deep Learning model\n",
        "train_loader = torch.utils.data.DataLoader(traindata, batch_size=batch_size, shuffle=True)\n",
        "\n",
        "vgg19 = models.vgg19_bn(pretrained=False)\n",
        "vgg19.cuda()\n",
        "\n",
        "opt = optim.SGD(vgg19.parameters(), lr=0.01)\n",
        "\n",
        "losses_train = []\n",
        "losses_test = []\n",
        "acc_train = []\n",
        "acc_test = []\n",
        "\n",
        "for r in range(num_rounds):\n",
        "    \n",
        "    loss = client_update(vgg19, opt, train_loader, epoch=epochs)\n",
        "    \n",
        "    losses_train.append(loss)    \n",
        "    test_loss, acc = test(vgg19, test_loader)\n",
        "    losses_test.append(test_loss)\n",
        "    acc_test.append(acc)\n",
        "    print('%d-th round' % r)\n",
        "    print('average train loss %0.3g | test loss %0.3g | test acc: %0.3f' % (loss / num_selected, test_loss, acc))\n"
      ],
      "execution_count": null,
      "outputs": [
        {
          "output_type": "stream",
          "text": [
            "Files already downloaded and verified\n",
            "0-th round\n",
            "average train loss 0.152 | test loss 0.895 | test acc: 0.701\n",
            "1-th round\n",
            "average train loss 0.0738 | test loss 0.646 | test acc: 0.786\n",
            "2-th round\n",
            "average train loss 0.117 | test loss 0.618 | test acc: 0.802\n",
            "3-th round\n",
            "average train loss 0.129 | test loss 0.629 | test acc: 0.811\n",
            "4-th round\n",
            "average train loss 0.0197 | test loss 0.518 | test acc: 0.835\n",
            "5-th round\n",
            "average train loss 0.0377 | test loss 0.505 | test acc: 0.843\n",
            "6-th round\n",
            "average train loss 0.0477 | test loss 0.513 | test acc: 0.847\n",
            "7-th round\n",
            "average train loss 0.00885 | test loss 0.467 | test acc: 0.869\n",
            "8-th round\n",
            "average train loss 0.00954 | test loss 0.528 | test acc: 0.861\n",
            "9-th round\n",
            "average train loss 0.0173 | test loss 0.528 | test acc: 0.864\n",
            "10-th round\n",
            "average train loss 0.0363 | test loss 0.532 | test acc: 0.864\n",
            "11-th round\n",
            "average train loss 0.019 | test loss 0.565 | test acc: 0.865\n",
            "12-th round\n",
            "average train loss 0.0107 | test loss 0.545 | test acc: 0.872\n",
            "13-th round\n",
            "average train loss 0.0182 | test loss 0.526 | test acc: 0.878\n",
            "14-th round\n",
            "average train loss 0.000632 | test loss 0.523 | test acc: 0.878\n",
            "15-th round\n",
            "average train loss 0.00403 | test loss 0.524 | test acc: 0.879\n",
            "16-th round\n",
            "average train loss 0.0241 | test loss 0.56 | test acc: 0.875\n",
            "17-th round\n",
            "average train loss 0.00942 | test loss 0.572 | test acc: 0.877\n",
            "18-th round\n",
            "average train loss 0.0907 | test loss 0.615 | test acc: 0.873\n",
            "19-th round\n",
            "average train loss 0.000232 | test loss 0.584 | test acc: 0.881\n",
            "20-th round\n",
            "average train loss 0.000152 | test loss 0.595 | test acc: 0.879\n",
            "21-th round\n",
            "average train loss 0.00034 | test loss 0.584 | test acc: 0.883\n",
            "22-th round\n",
            "average train loss 0.000538 | test loss 0.596 | test acc: 0.882\n",
            "23-th round\n",
            "average train loss 0.00393 | test loss 0.623 | test acc: 0.878\n",
            "24-th round\n",
            "average train loss 0.000104 | test loss 0.571 | test acc: 0.888\n",
            "25-th round\n",
            "average train loss 0.000146 | test loss 0.587 | test acc: 0.884\n",
            "26-th round\n",
            "average train loss 0.0295 | test loss 0.668 | test acc: 0.875\n",
            "27-th round\n",
            "average train loss 0.00114 | test loss 0.588 | test acc: 0.886\n",
            "28-th round\n",
            "average train loss 0.000302 | test loss 0.594 | test acc: 0.883\n",
            "29-th round\n",
            "average train loss 0.000344 | test loss 0.632 | test acc: 0.885\n",
            "30-th round\n",
            "average train loss 6.04e-06 | test loss 0.594 | test acc: 0.888\n",
            "31-th round\n",
            "average train loss 0.00054 | test loss 0.608 | test acc: 0.886\n",
            "32-th round\n",
            "average train loss 0.0639 | test loss 0.613 | test acc: 0.884\n",
            "33-th round\n",
            "average train loss 5.7e-06 | test loss 0.635 | test acc: 0.887\n",
            "34-th round\n",
            "average train loss 7.92e-05 | test loss 0.631 | test acc: 0.888\n",
            "35-th round\n",
            "average train loss 0.000201 | test loss 0.598 | test acc: 0.891\n",
            "36-th round\n",
            "average train loss 1.16e-05 | test loss 0.636 | test acc: 0.890\n",
            "37-th round\n",
            "average train loss 0.000173 | test loss 0.626 | test acc: 0.891\n",
            "38-th round\n",
            "average train loss 3.68e-06 | test loss 0.664 | test acc: 0.887\n",
            "39-th round\n",
            "average train loss 0.000578 | test loss 0.614 | test acc: 0.892\n",
            "40-th round\n",
            "average train loss 7.11e-06 | test loss 0.661 | test acc: 0.890\n",
            "41-th round\n",
            "average train loss 2.63e-05 | test loss 0.648 | test acc: 0.891\n",
            "42-th round\n",
            "average train loss 0.00396 | test loss 0.637 | test acc: 0.891\n",
            "43-th round\n",
            "average train loss 3.68e-06 | test loss 0.622 | test acc: 0.889\n",
            "44-th round\n",
            "average train loss 0.000463 | test loss 0.637 | test acc: 0.893\n",
            "45-th round\n",
            "average train loss 1.26e-05 | test loss 0.612 | test acc: 0.894\n",
            "46-th round\n",
            "average train loss 2.95e-05 | test loss 0.622 | test acc: 0.895\n",
            "47-th round\n",
            "average train loss 0.000156 | test loss 0.65 | test acc: 0.891\n",
            "48-th round\n",
            "average train loss 0.000221 | test loss 0.661 | test acc: 0.893\n",
            "49-th round\n",
            "average train loss 7.17e-06 | test loss 0.653 | test acc: 0.892\n",
            "50-th round\n",
            "average train loss 0.000308 | test loss 0.65 | test acc: 0.890\n",
            "51-th round\n",
            "average train loss 9.46e-06 | test loss 0.632 | test acc: 0.891\n",
            "52-th round\n",
            "average train loss 0.0107 | test loss 0.706 | test acc: 0.885\n",
            "53-th round\n",
            "average train loss 6.95e-07 | test loss 0.671 | test acc: 0.890\n",
            "54-th round\n",
            "average train loss 7.31e-06 | test loss 0.64 | test acc: 0.895\n",
            "55-th round\n",
            "average train loss 0.00357 | test loss 0.628 | test acc: 0.898\n",
            "56-th round\n",
            "average train loss 8.15e-07 | test loss 0.662 | test acc: 0.891\n",
            "57-th round\n",
            "average train loss 6.12e-05 | test loss 0.634 | test acc: 0.896\n",
            "58-th round\n",
            "average train loss 3.24e-06 | test loss 0.644 | test acc: 0.893\n",
            "59-th round\n",
            "average train loss 0.0267 | test loss 0.677 | test acc: 0.887\n",
            "60-th round\n",
            "average train loss 3.18e-05 | test loss 0.682 | test acc: 0.894\n",
            "61-th round\n",
            "average train loss 8.94e-07 | test loss 0.662 | test acc: 0.893\n",
            "62-th round\n",
            "average train loss 1.12e-05 | test loss 0.658 | test acc: 0.893\n",
            "63-th round\n",
            "average train loss 0.00281 | test loss 0.647 | test acc: 0.895\n",
            "64-th round\n",
            "average train loss 0.000644 | test loss 0.643 | test acc: 0.895\n",
            "65-th round\n",
            "average train loss 3.66e-05 | test loss 0.65 | test acc: 0.894\n",
            "66-th round\n",
            "average train loss 2.62e-06 | test loss 0.632 | test acc: 0.898\n",
            "67-th round\n",
            "average train loss 1.59e-07 | test loss 0.667 | test acc: 0.897\n",
            "68-th round\n",
            "average train loss 5.56e-07 | test loss 0.672 | test acc: 0.894\n",
            "69-th round\n",
            "average train loss 0.00809 | test loss 0.714 | test acc: 0.890\n",
            "70-th round\n",
            "average train loss 2.38e-07 | test loss 0.662 | test acc: 0.896\n",
            "71-th round\n",
            "average train loss 9.34e-07 | test loss 0.655 | test acc: 0.896\n",
            "72-th round\n",
            "average train loss 1.79e-06 | test loss 0.714 | test acc: 0.893\n",
            "73-th round\n",
            "average train loss 5.17e-07 | test loss 0.694 | test acc: 0.896\n",
            "74-th round\n",
            "average train loss 1.99e-07 | test loss 0.681 | test acc: 0.895\n",
            "75-th round\n",
            "average train loss 6.16e-07 | test loss 0.707 | test acc: 0.894\n",
            "76-th round\n",
            "average train loss 5.88e-06 | test loss 0.671 | test acc: 0.894\n",
            "77-th round\n",
            "average train loss 5.55e-05 | test loss 0.652 | test acc: 0.897\n",
            "78-th round\n",
            "average train loss 0.00475 | test loss 0.714 | test acc: 0.895\n",
            "79-th round\n",
            "average train loss 1.79e-06 | test loss 0.662 | test acc: 0.896\n",
            "80-th round\n",
            "average train loss 3.12e-06 | test loss 0.654 | test acc: 0.895\n",
            "81-th round\n",
            "average train loss 9.54e-07 | test loss 0.66 | test acc: 0.896\n",
            "82-th round\n",
            "average train loss 3.97e-08 | test loss 0.672 | test acc: 0.896\n",
            "83-th round\n",
            "average train loss 9.12e-05 | test loss 0.649 | test acc: 0.898\n",
            "84-th round\n",
            "average train loss 2.44e-06 | test loss 0.672 | test acc: 0.895\n",
            "85-th round\n",
            "average train loss 0.000126 | test loss 0.672 | test acc: 0.898\n",
            "86-th round\n",
            "average train loss 2.98e-07 | test loss 0.656 | test acc: 0.900\n",
            "87-th round\n",
            "average train loss 1.47e-06 | test loss 0.681 | test acc: 0.895\n",
            "88-th round\n",
            "average train loss 1.37e-06 | test loss 0.677 | test acc: 0.897\n",
            "89-th round\n",
            "average train loss 3.91e-06 | test loss 0.669 | test acc: 0.897\n",
            "90-th round\n",
            "average train loss 1.56e-05 | test loss 0.738 | test acc: 0.899\n",
            "91-th round\n",
            "average train loss 0.000143 | test loss 0.672 | test acc: 0.897\n",
            "92-th round\n",
            "average train loss 0.00326 | test loss 0.703 | test acc: 0.895\n",
            "93-th round\n",
            "average train loss 0.000443 | test loss 0.701 | test acc: 0.896\n",
            "94-th round\n",
            "average train loss 3.4e-05 | test loss 0.668 | test acc: 0.894\n",
            "95-th round\n",
            "average train loss 2.74e-06 | test loss 0.667 | test acc: 0.896\n",
            "96-th round\n",
            "average train loss 1.78e-05 | test loss 0.688 | test acc: 0.897\n",
            "97-th round\n",
            "average train loss 6.76e-07 | test loss 0.668 | test acc: 0.899\n",
            "98-th round\n",
            "average train loss 3.29e-05 | test loss 0.68 | test acc: 0.895\n",
            "99-th round\n",
            "average train loss 3.97e-08 | test loss 0.675 | test acc: 0.897\n",
            "100-th round\n",
            "average train loss 0.000466 | test loss 0.676 | test acc: 0.895\n",
            "101-th round\n",
            "average train loss 2.98e-07 | test loss 0.707 | test acc: 0.903\n",
            "102-th round\n",
            "average train loss 8.49e-05 | test loss 0.736 | test acc: 0.893\n",
            "103-th round\n",
            "average train loss 0.000513 | test loss 0.671 | test acc: 0.898\n",
            "104-th round\n",
            "average train loss 3.97e-07 | test loss 0.723 | test acc: 0.895\n",
            "105-th round\n",
            "average train loss 1.99e-07 | test loss 0.68 | test acc: 0.896\n",
            "106-th round\n",
            "average train loss 6.93e-06 | test loss 0.699 | test acc: 0.895\n",
            "107-th round\n",
            "average train loss 1.18e-05 | test loss 0.698 | test acc: 0.897\n",
            "108-th round\n",
            "average train loss 1.62e-05 | test loss 0.686 | test acc: 0.897\n",
            "109-th round\n",
            "average train loss 1.77e-05 | test loss 0.656 | test acc: 0.894\n",
            "110-th round\n",
            "average train loss 8.05e-06 | test loss 0.667 | test acc: 0.899\n",
            "111-th round\n",
            "average train loss 7.17e-06 | test loss 0.641 | test acc: 0.898\n",
            "112-th round\n",
            "average train loss 3.97e-08 | test loss 0.718 | test acc: 0.899\n",
            "113-th round\n",
            "average train loss 2.38e-07 | test loss 0.68 | test acc: 0.898\n",
            "114-th round\n",
            "average train loss 0.00137 | test loss 0.7 | test acc: 0.898\n",
            "115-th round\n",
            "average train loss 1.59e-07 | test loss 0.696 | test acc: 0.899\n",
            "116-th round\n",
            "average train loss 1.79e-07 | test loss 0.673 | test acc: 0.897\n",
            "117-th round\n",
            "average train loss 2.96e-06 | test loss 0.661 | test acc: 0.898\n",
            "118-th round\n",
            "average train loss 7.95e-08 | test loss 0.676 | test acc: 0.901\n",
            "119-th round\n",
            "average train loss 4.23e-05 | test loss 0.668 | test acc: 0.898\n",
            "120-th round\n",
            "average train loss 1.11e-05 | test loss 0.685 | test acc: 0.899\n",
            "121-th round\n",
            "average train loss 1.99e-07 | test loss 0.696 | test acc: 0.901\n",
            "122-th round\n",
            "average train loss 3.38e-06 | test loss 0.702 | test acc: 0.900\n",
            "123-th round\n",
            "average train loss 0.000709 | test loss 0.702 | test acc: 0.901\n",
            "124-th round\n",
            "average train loss 3.38e-07 | test loss 0.672 | test acc: 0.899\n",
            "125-th round\n",
            "average train loss 4.77e-07 | test loss 0.726 | test acc: 0.899\n",
            "126-th round\n",
            "average train loss 3.66e-06 | test loss 0.709 | test acc: 0.897\n",
            "127-th round\n",
            "average train loss 8.94e-07 | test loss 0.676 | test acc: 0.901\n",
            "128-th round\n",
            "average train loss 7.95e-08 | test loss 0.715 | test acc: 0.898\n",
            "129-th round\n",
            "average train loss 3.75e-05 | test loss 0.716 | test acc: 0.897\n",
            "130-th round\n",
            "average train loss 1.35e-06 | test loss 0.68 | test acc: 0.903\n",
            "131-th round\n",
            "average train loss 5.38e-06 | test loss 0.694 | test acc: 0.898\n",
            "132-th round\n",
            "average train loss 5.64e-06 | test loss 0.703 | test acc: 0.897\n",
            "133-th round\n",
            "average train loss 2.38e-07 | test loss 0.699 | test acc: 0.899\n",
            "134-th round\n",
            "average train loss 2.98e-07 | test loss 0.714 | test acc: 0.898\n",
            "135-th round\n",
            "average train loss 3.77e-07 | test loss 0.738 | test acc: 0.897\n",
            "136-th round\n",
            "average train loss 6.78e-06 | test loss 0.734 | test acc: 0.897\n",
            "137-th round\n",
            "average train loss 0.000209 | test loss 0.766 | test acc: 0.895\n",
            "138-th round\n",
            "average train loss 0.00717 | test loss 0.755 | test acc: 0.894\n",
            "139-th round\n",
            "average train loss 9.14e-07 | test loss 0.735 | test acc: 0.894\n",
            "140-th round\n",
            "average train loss 8.34e-07 | test loss 0.751 | test acc: 0.897\n",
            "141-th round\n",
            "average train loss 2.85e-05 | test loss 0.711 | test acc: 0.898\n",
            "142-th round\n",
            "average train loss 4.17e-07 | test loss 0.688 | test acc: 0.901\n",
            "143-th round\n",
            "average train loss 1.19e-07 | test loss 0.759 | test acc: 0.894\n",
            "144-th round\n",
            "average train loss 3.38e-07 | test loss 0.7 | test acc: 0.898\n",
            "145-th round\n",
            "average train loss 0.000109 | test loss 0.674 | test acc: 0.899\n",
            "146-th round\n",
            "average train loss 3.48e-06 | test loss 0.687 | test acc: 0.901\n",
            "147-th round\n",
            "average train loss 2.19e-07 | test loss 0.71 | test acc: 0.899\n",
            "148-th round\n",
            "average train loss 1.03e-06 | test loss 0.696 | test acc: 0.899\n",
            "149-th round\n",
            "average train loss 8.94e-07 | test loss 0.688 | test acc: 0.899\n"
          ],
          "name": "stdout"
        }
      ]
    },
    {
      "cell_type": "code",
      "metadata": {
        "id": "XZmeqsL7GZ1Y",
        "colab_type": "code",
        "colab": {}
      },
      "source": [
        ""
      ],
      "execution_count": null,
      "outputs": []
    }
  ]
}
